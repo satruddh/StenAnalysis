{
 "cells": [
  {
   "cell_type": "code",
   "execution_count": 17,
   "id": "28389ddc",
   "metadata": {},
   "outputs": [],
   "source": [
    "from utils import preprocess_image, run_inference\n",
    "image_path = \"./26.png\"\n",
    "\n",
    "img = preprocess_image(image_path)\n",
    "# print(img.shape)\n",
    "x,y = run_inference(img)"
   ]
  },
  {
   "cell_type": "code",
   "execution_count": 18,
   "id": "b2da955c",
   "metadata": {},
   "outputs": [
    {
     "data": {
      "text/plain": [
       "(torch.Size([1, 3, 256, 256]), torch.Size([1, 1, 256, 256]))"
      ]
     },
     "execution_count": 18,
     "metadata": {},
     "output_type": "execute_result"
    }
   ],
   "source": [
    "x.shape, y.shape"
   ]
  },
  {
   "cell_type": "code",
   "execution_count": 19,
   "id": "d066bd23",
   "metadata": {},
   "outputs": [],
   "source": [
    "import matplotlib.pyplot as plt"
   ]
  },
  {
   "cell_type": "code",
   "execution_count": 23,
   "id": "99d9df42",
   "metadata": {},
   "outputs": [
    {
     "data": {
      "text/plain": [
       "torch.Size([256, 256, 3])"
      ]
     },
     "execution_count": 23,
     "metadata": {},
     "output_type": "execute_result"
    }
   ],
   "source": [
    "x_= x.squeeze(0).permute(1,2,0)\n",
    "x_.cpu().numpy()\n",
    "x_.shape"
   ]
  },
  {
   "cell_type": "code",
   "execution_count": 24,
   "id": "648ea027",
   "metadata": {},
   "outputs": [
    {
     "name": "stderr",
     "output_type": "stream",
     "text": [
      "Clipping input data to the valid range for imshow with RGB data ([0..1] for floats or [0..255] for integers).\n"
     ]
    },
    {
     "data": {
      "text/plain": [
       "<matplotlib.image.AxesImage at 0x72f177acee70>"
      ]
     },
     "execution_count": 24,
     "metadata": {},
     "output_type": "execute_result"
    },
    {
     "data": {
      "image/png": "[encoded data removed]",
      "text/plain": [
       "<Figure size 640x480 with 1 Axes>"
      ]
     },
     "metadata": {},
     "output_type": "display_data"
    }
   ],
   "source": [
    "plt.imshow(x_,cmap='gray')"
   ]
  },
  {
   "cell_type": "code",
   "execution_count": 42,
   "id": "970df9f7",
   "metadata": {},
   "outputs": [
    {
     "data": {
      "text/plain": [
       "torch.Size([256, 256, 1])"
      ]
     },
     "execution_count": 42,
     "metadata": {},
     "output_type": "execute_result"
    }
   ],
   "source": [
    "y_= op.squeeze(0).permute(1,2,0)\n",
    "y_.cpu().numpy()\n",
    "y_.shape"
   ]
  },
  {
   "cell_type": "code",
   "execution_count": 43,
   "id": "2e9dfe9c",
   "metadata": {},
   "outputs": [
    {
     "data": {
      "text/plain": [
       "<matplotlib.image.AxesImage at 0x72f1744b9c10>"
      ]
     },
     "execution_count": 43,
     "metadata": {},
     "output_type": "execute_result"
    },
    {
     "data": {
      "image/png": "[encoded data removed]",
      "text/plain": [
       "<Figure size 640x480 with 1 Axes>"
      ]
     },
     "metadata": {},
     "output_type": "display_data"
    }
   ],
   "source": [
    "plt.imshow(y_,cmap='gray')"
   ]
  },
  {
   "cell_type": "code",
   "execution_count": 28,
   "id": "01fc0709",
   "metadata": {},
   "outputs": [
    {
     "data": {
      "text/plain": [
       "ENet(\n",
       "  (initial): InitialBlock(\n",
       "    (main_branch): Conv2d(3, 13, kernel_size=(3, 3), stride=(2, 2), padding=(1, 1), bias=False)\n",
       "    (ext_branch): MaxPool2d(kernel_size=3, stride=2, padding=1, dilation=1, ceil_mode=False)\n",
       "    (batch_norm): BatchNorm2d(16, eps=1e-05, momentum=0.1, affine=True, track_running_stats=True)\n",
       "    (prelu): PReLU(num_parameters=1)\n",
       "  )\n",
       "  (bottleneck1_0): Bottleneck(\n",
       "    (conv1x1_1): Sequential(\n",
       "      (0): Conv2d(16, 4, kernel_size=(1, 1), stride=(1, 1), bias=False)\n",
       "      (1): BatchNorm2d(4, eps=1e-05, momentum=0.1, affine=True, track_running_stats=True)\n",
       "      (2): PReLU(num_parameters=1)\n",
       "    )\n",
       "    (conv2x2): Sequential(\n",
       "      (0): Conv2d(4, 4, kernel_size=(2, 2), stride=(2, 2), bias=False)\n",
       "      (1): BatchNorm2d(4, eps=1e-05, momentum=0.1, affine=True, track_running_stats=True)\n",
       "      (2): PReLU(num_parameters=1)\n",
       "    )\n",
       "    (conv1x1_2): Sequential(\n",
       "      (0): Conv2d(4, 64, kernel_size=(1, 1), stride=(1, 1), bias=False)\n",
       "      (1): BatchNorm2d(64, eps=1e-05, momentum=0.1, affine=True, track_running_stats=True)\n",
       "      (2): Dropout2d(p=0.01, inplace=False)\n",
       "    )\n",
       "    (regularizer): Dropout2d(p=0.1, inplace=False)\n",
       "    (resample): Sequential(\n",
       "      (0): Conv2d(16, 64, kernel_size=(1, 1), stride=(2, 2), bias=False)\n",
       "      (1): BatchNorm2d(64, eps=1e-05, momentum=0.1, affine=True, track_running_stats=True)\n",
       "    )\n",
       "    (out_prelu): PReLU(num_parameters=1)\n",
       "  )\n",
       "  (bottleneck1_1): Bottleneck(\n",
       "    (conv1x1_1): Sequential(\n",
       "      (0): Conv2d(64, 16, kernel_size=(1, 1), stride=(1, 1), bias=False)\n",
       "      (1): BatchNorm2d(16, eps=1e-05, momentum=0.1, affine=True, track_running_stats=True)\n",
       "      (2): PReLU(num_parameters=1)\n",
       "    )\n",
       "    (conv2x2): Sequential(\n",
       "      (0): Conv2d(16, 16, kernel_size=(3, 3), stride=(1, 1), padding=(1, 1), bias=False)\n",
       "      (1): BatchNorm2d(16, eps=1e-05, momentum=0.1, affine=True, track_running_stats=True)\n",
       "      (2): PReLU(num_parameters=1)\n",
       "    )\n",
       "    (conv1x1_2): Sequential(\n",
       "      (0): Conv2d(16, 64, kernel_size=(1, 1), stride=(1, 1), bias=False)\n",
       "      (1): BatchNorm2d(64, eps=1e-05, momentum=0.1, affine=True, track_running_stats=True)\n",
       "      (2): Dropout2d(p=0.1, inplace=False)\n",
       "    )\n",
       "    (regularizer): Dropout2d(p=0.1, inplace=False)\n",
       "    (out_prelu): PReLU(num_parameters=1)\n",
       "  )\n",
       "  (bottleneck1_2): Bottleneck(\n",
       "    (conv1x1_1): Sequential(\n",
       "      (0): Conv2d(64, 16, kernel_size=(1, 1), stride=(1, 1), bias=False)\n",
       "      (1): BatchNorm2d(16, eps=1e-05, momentum=0.1, affine=True, track_running_stats=True)\n",
       "      (2): PReLU(num_parameters=1)\n",
       "    )\n",
       "    (conv2x2): Sequential(\n",
       "      (0): Conv2d(16, 16, kernel_size=(3, 3), stride=(1, 1), padding=(1, 1), bias=False)\n",
       "      (1): BatchNorm2d(16, eps=1e-05, momentum=0.1, affine=True, track_running_stats=True)\n",
       "      (2): PReLU(num_parameters=1)\n",
       "    )\n",
       "    (conv1x1_2): Sequential(\n",
       "      (0): Conv2d(16, 64, kernel_size=(1, 1), stride=(1, 1), bias=False)\n",
       "      (1): BatchNorm2d(64, eps=1e-05, momentum=0.1, affine=True, track_running_stats=True)\n",
       "      (2): Dropout2d(p=0.1, inplace=False)\n",
       "    )\n",
       "    (regularizer): Dropout2d(p=0.1, inplace=False)\n",
       "    (out_prelu): PReLU(num_parameters=1)\n",
       "  )\n",
       "  (bottleneck1_3): Bottleneck(\n",
       "    (conv1x1_1): Sequential(\n",
       "      (0): Conv2d(64, 16, kernel_size=(1, 1), stride=(1, 1), bias=False)\n",
       "      (1): BatchNorm2d(16, eps=1e-05, momentum=0.1, affine=True, track_running_stats=True)\n",
       "      (2): PReLU(num_parameters=1)\n",
       "    )\n",
       "    (conv2x2): Sequential(\n",
       "      (0): Conv2d(16, 16, kernel_size=(3, 3), stride=(1, 1), padding=(1, 1), bias=False)\n",
       "      (1): BatchNorm2d(16, eps=1e-05, momentum=0.1, affine=True, track_running_stats=True)\n",
       "      (2): PReLU(num_parameters=1)\n",
       "    )\n",
       "    (conv1x1_2): Sequential(\n",
       "      (0): Conv2d(16, 64, kernel_size=(1, 1), stride=(1, 1), bias=False)\n",
       "      (1): BatchNorm2d(64, eps=1e-05, momentum=0.1, affine=True, track_running_stats=True)\n",
       "      (2): Dropout2d(p=0.1, inplace=False)\n",
       "    )\n",
       "    (regularizer): Dropout2d(p=0.1, inplace=False)\n",
       "    (out_prelu): PReLU(num_parameters=1)\n",
       "  )\n",
       "  (bottleneck1_4): Bottleneck(\n",
       "    (conv1x1_1): Sequential(\n",
       "      (0): Conv2d(64, 16, kernel_size=(1, 1), stride=(1, 1), bias=False)\n",
       "      (1): BatchNorm2d(16, eps=1e-05, momentum=0.1, affine=True, track_running_stats=True)\n",
       "      (2): PReLU(num_parameters=1)\n",
       "    )\n",
       "    (conv2x2): Sequential(\n",
       "      (0): Conv2d(16, 16, kernel_size=(3, 3), stride=(1, 1), padding=(1, 1), bias=False)\n",
       "      (1): BatchNorm2d(16, eps=1e-05, momentum=0.1, affine=True, track_running_stats=True)\n",
       "      (2): PReLU(num_parameters=1)\n",
       "    )\n",
       "    (conv1x1_2): Sequential(\n",
       "      (0): Conv2d(16, 64, kernel_size=(1, 1), stride=(1, 1), bias=False)\n",
       "      (1): BatchNorm2d(64, eps=1e-05, momentum=0.1, affine=True, track_running_stats=True)\n",
       "      (2): Dropout2d(p=0.1, inplace=False)\n",
       "    )\n",
       "    (regularizer): Dropout2d(p=0.1, inplace=False)\n",
       "    (out_prelu): PReLU(num_parameters=1)\n",
       "  )\n",
       "  (bottleneck2_0): Bottleneck(\n",
       "    (conv1x1_1): Sequential(\n",
       "      (0): Conv2d(64, 16, kernel_size=(1, 1), stride=(1, 1), bias=False)\n",
       "      (1): BatchNorm2d(16, eps=1e-05, momentum=0.1, affine=True, track_running_stats=True)\n",
       "      (2): PReLU(num_parameters=1)\n",
       "    )\n",
       "    (conv2x2): Sequential(\n",
       "      (0): Conv2d(16, 16, kernel_size=(2, 2), stride=(2, 2), bias=False)\n",
       "      (1): BatchNorm2d(16, eps=1e-05, momentum=0.1, affine=True, track_running_stats=True)\n",
       "      (2): PReLU(num_parameters=1)\n",
       "    )\n",
       "    (conv1x1_2): Sequential(\n",
       "      (0): Conv2d(16, 128, kernel_size=(1, 1), stride=(1, 1), bias=False)\n",
       "      (1): BatchNorm2d(128, eps=1e-05, momentum=0.1, affine=True, track_running_stats=True)\n",
       "      (2): Dropout2d(p=0.1, inplace=False)\n",
       "    )\n",
       "    (regularizer): Dropout2d(p=0.1, inplace=False)\n",
       "    (resample): Sequential(\n",
       "      (0): Conv2d(64, 128, kernel_size=(1, 1), stride=(2, 2), bias=False)\n",
       "      (1): BatchNorm2d(128, eps=1e-05, momentum=0.1, affine=True, track_running_stats=True)\n",
       "    )\n",
       "    (out_prelu): PReLU(num_parameters=1)\n",
       "  )\n",
       "  (bottleneck2_1): Bottleneck(\n",
       "    (conv1x1_1): Sequential(\n",
       "      (0): Conv2d(128, 32, kernel_size=(1, 1), stride=(1, 1), bias=False)\n",
       "      (1): BatchNorm2d(32, eps=1e-05, momentum=0.1, affine=True, track_running_stats=True)\n",
       "      (2): PReLU(num_parameters=1)\n",
       "    )\n",
       "    (conv2x2): Sequential(\n",
       "      (0): Conv2d(32, 32, kernel_size=(3, 3), stride=(1, 1), padding=(1, 1), bias=False)\n",
       "      (1): BatchNorm2d(32, eps=1e-05, momentum=0.1, affine=True, track_running_stats=True)\n",
       "      (2): PReLU(num_parameters=1)\n",
       "    )\n",
       "    (conv1x1_2): Sequential(\n",
       "      (0): Conv2d(32, 128, kernel_size=(1, 1), stride=(1, 1), bias=False)\n",
       "      (1): BatchNorm2d(128, eps=1e-05, momentum=0.1, affine=True, track_running_stats=True)\n",
       "      (2): Dropout2d(p=0.1, inplace=False)\n",
       "    )\n",
       "    (regularizer): Dropout2d(p=0.1, inplace=False)\n",
       "    (out_prelu): PReLU(num_parameters=1)\n",
       "  )\n",
       "  (bottleneck2_2): Bottleneck(\n",
       "    (conv1x1_1): Sequential(\n",
       "      (0): Conv2d(128, 32, kernel_size=(1, 1), stride=(1, 1), bias=False)\n",
       "      (1): BatchNorm2d(32, eps=1e-05, momentum=0.1, affine=True, track_running_stats=True)\n",
       "      (2): PReLU(num_parameters=1)\n",
       "    )\n",
       "    (conv2x2): Sequential(\n",
       "      (0): Conv2d(32, 32, kernel_size=(3, 3), stride=(1, 1), padding=(2, 2), dilation=(2, 2), bias=False)\n",
       "      (1): BatchNorm2d(32, eps=1e-05, momentum=0.1, affine=True, track_running_stats=True)\n",
       "      (2): PReLU(num_parameters=1)\n",
       "    )\n",
       "    (conv1x1_2): Sequential(\n",
       "      (0): Conv2d(32, 128, kernel_size=(1, 1), stride=(1, 1), bias=False)\n",
       "      (1): BatchNorm2d(128, eps=1e-05, momentum=0.1, affine=True, track_running_stats=True)\n",
       "      (2): Dropout2d(p=0.1, inplace=False)\n",
       "    )\n",
       "    (regularizer): Dropout2d(p=0.1, inplace=False)\n",
       "    (out_prelu): PReLU(num_parameters=1)\n",
       "  )\n",
       "  (bottleneck2_3): Bottleneck(\n",
       "    (conv1x1_1): Sequential(\n",
       "      (0): Conv2d(128, 32, kernel_size=(1, 1), stride=(1, 1), bias=False)\n",
       "      (1): BatchNorm2d(32, eps=1e-05, momentum=0.1, affine=True, track_running_stats=True)\n",
       "      (2): PReLU(num_parameters=1)\n",
       "    )\n",
       "    (conv2x2): Sequential(\n",
       "      (0): Conv2d(32, 32, kernel_size=(5, 1), stride=(1, 1), padding=(2, 0), bias=False)\n",
       "      (1): BatchNorm2d(32, eps=1e-05, momentum=0.1, affine=True, track_running_stats=True)\n",
       "      (2): PReLU(num_parameters=1)\n",
       "      (3): Conv2d(32, 32, kernel_size=(1, 5), stride=(1, 1), padding=(0, 2), bias=False)\n",
       "      (4): BatchNorm2d(32, eps=1e-05, momentum=0.1, affine=True, track_running_stats=True)\n",
       "      (5): PReLU(num_parameters=1)\n",
       "    )\n",
       "    (conv1x1_2): Sequential(\n",
       "      (0): Conv2d(32, 128, kernel_size=(1, 1), stride=(1, 1), bias=False)\n",
       "      (1): BatchNorm2d(128, eps=1e-05, momentum=0.1, affine=True, track_running_stats=True)\n",
       "      (2): Dropout2d(p=0.1, inplace=False)\n",
       "    )\n",
       "    (regularizer): Dropout2d(p=0.1, inplace=False)\n",
       "    (out_prelu): PReLU(num_parameters=1)\n",
       "  )\n",
       "  (bottleneck2_4): Bottleneck(\n",
       "    (conv1x1_1): Sequential(\n",
       "      (0): Conv2d(128, 32, kernel_size=(1, 1), stride=(1, 1), bias=False)\n",
       "      (1): BatchNorm2d(32, eps=1e-05, momentum=0.1, affine=True, track_running_stats=True)\n",
       "      (2): PReLU(num_parameters=1)\n",
       "    )\n",
       "    (conv2x2): Sequential(\n",
       "      (0): Conv2d(32, 32, kernel_size=(3, 3), stride=(1, 1), padding=(4, 4), dilation=(4, 4), bias=False)\n",
       "      (1): BatchNorm2d(32, eps=1e-05, momentum=0.1, affine=True, track_running_stats=True)\n",
       "      (2): PReLU(num_parameters=1)\n",
       "    )\n",
       "    (conv1x1_2): Sequential(\n",
       "      (0): Conv2d(32, 128, kernel_size=(1, 1), stride=(1, 1), bias=False)\n",
       "      (1): BatchNorm2d(128, eps=1e-05, momentum=0.1, affine=True, track_running_stats=True)\n",
       "      (2): Dropout2d(p=0.1, inplace=False)\n",
       "    )\n",
       "    (regularizer): Dropout2d(p=0.1, inplace=False)\n",
       "    (out_prelu): PReLU(num_parameters=1)\n",
       "  )\n",
       "  (bottleneck2_5): Bottleneck(\n",
       "    (conv1x1_1): Sequential(\n",
       "      (0): Conv2d(128, 32, kernel_size=(1, 1), stride=(1, 1), bias=False)\n",
       "      (1): BatchNorm2d(32, eps=1e-05, momentum=0.1, affine=True, track_running_stats=True)\n",
       "      (2): PReLU(num_parameters=1)\n",
       "    )\n",
       "    (conv2x2): Sequential(\n",
       "      (0): Conv2d(32, 32, kernel_size=(3, 3), stride=(1, 1), padding=(1, 1), bias=False)\n",
       "      (1): BatchNorm2d(32, eps=1e-05, momentum=0.1, affine=True, track_running_stats=True)\n",
       "      (2): PReLU(num_parameters=1)\n",
       "    )\n",
       "    (conv1x1_2): Sequential(\n",
       "      (0): Conv2d(32, 128, kernel_size=(1, 1), stride=(1, 1), bias=False)\n",
       "      (1): BatchNorm2d(128, eps=1e-05, momentum=0.1, affine=True, track_running_stats=True)\n",
       "      (2): Dropout2d(p=0.1, inplace=False)\n",
       "    )\n",
       "    (regularizer): Dropout2d(p=0.1, inplace=False)\n",
       "    (out_prelu): PReLU(num_parameters=1)\n",
       "  )\n",
       "  (bottleneck2_6): Bottleneck(\n",
       "    (conv1x1_1): Sequential(\n",
       "      (0): Conv2d(128, 32, kernel_size=(1, 1), stride=(1, 1), bias=False)\n",
       "      (1): BatchNorm2d(32, eps=1e-05, momentum=0.1, affine=True, track_running_stats=True)\n",
       "      (2): PReLU(num_parameters=1)\n",
       "    )\n",
       "    (conv2x2): Sequential(\n",
       "      (0): Conv2d(32, 32, kernel_size=(3, 3), stride=(1, 1), padding=(8, 8), dilation=(8, 8), bias=False)\n",
       "      (1): BatchNorm2d(32, eps=1e-05, momentum=0.1, affine=True, track_running_stats=True)\n",
       "      (2): PReLU(num_parameters=1)\n",
       "    )\n",
       "    (conv1x1_2): Sequential(\n",
       "      (0): Conv2d(32, 128, kernel_size=(1, 1), stride=(1, 1), bias=False)\n",
       "      (1): BatchNorm2d(128, eps=1e-05, momentum=0.1, affine=True, track_running_stats=True)\n",
       "      (2): Dropout2d(p=0.1, inplace=False)\n",
       "    )\n",
       "    (regularizer): Dropout2d(p=0.1, inplace=False)\n",
       "    (out_prelu): PReLU(num_parameters=1)\n",
       "  )\n",
       "  (bottleneck2_7): Bottleneck(\n",
       "    (conv1x1_1): Sequential(\n",
       "      (0): Conv2d(128, 32, kernel_size=(1, 1), stride=(1, 1), bias=False)\n",
       "      (1): BatchNorm2d(32, eps=1e-05, momentum=0.1, affine=True, track_running_stats=True)\n",
       "      (2): PReLU(num_parameters=1)\n",
       "    )\n",
       "    (conv2x2): Sequential(\n",
       "      (0): Conv2d(32, 32, kernel_size=(5, 1), stride=(1, 1), padding=(2, 0), bias=False)\n",
       "      (1): BatchNorm2d(32, eps=1e-05, momentum=0.1, affine=True, track_running_stats=True)\n",
       "      (2): PReLU(num_parameters=1)\n",
       "      (3): Conv2d(32, 32, kernel_size=(1, 5), stride=(1, 1), padding=(0, 2), bias=False)\n",
       "      (4): BatchNorm2d(32, eps=1e-05, momentum=0.1, affine=True, track_running_stats=True)\n",
       "      (5): PReLU(num_parameters=1)\n",
       "    )\n",
       "    (conv1x1_2): Sequential(\n",
       "      (0): Conv2d(32, 128, kernel_size=(1, 1), stride=(1, 1), bias=False)\n",
       "      (1): BatchNorm2d(128, eps=1e-05, momentum=0.1, affine=True, track_running_stats=True)\n",
       "      (2): Dropout2d(p=0.1, inplace=False)\n",
       "    )\n",
       "    (regularizer): Dropout2d(p=0.1, inplace=False)\n",
       "    (out_prelu): PReLU(num_parameters=1)\n",
       "  )\n",
       "  (bottleneck2_8): Bottleneck(\n",
       "    (conv1x1_1): Sequential(\n",
       "      (0): Conv2d(128, 32, kernel_size=(1, 1), stride=(1, 1), bias=False)\n",
       "      (1): BatchNorm2d(32, eps=1e-05, momentum=0.1, affine=True, track_running_stats=True)\n",
       "      (2): PReLU(num_parameters=1)\n",
       "    )\n",
       "    (conv2x2): Sequential(\n",
       "      (0): Conv2d(32, 32, kernel_size=(3, 3), stride=(1, 1), padding=(16, 16), dilation=(16, 16), bias=False)\n",
       "      (1): BatchNorm2d(32, eps=1e-05, momentum=0.1, affine=True, track_running_stats=True)\n",
       "      (2): PReLU(num_parameters=1)\n",
       "    )\n",
       "    (conv1x1_2): Sequential(\n",
       "      (0): Conv2d(32, 128, kernel_size=(1, 1), stride=(1, 1), bias=False)\n",
       "      (1): BatchNorm2d(128, eps=1e-05, momentum=0.1, affine=True, track_running_stats=True)\n",
       "      (2): Dropout2d(p=0.1, inplace=False)\n",
       "    )\n",
       "    (regularizer): Dropout2d(p=0.1, inplace=False)\n",
       "    (out_prelu): PReLU(num_parameters=1)\n",
       "  )\n",
       "  (bottleneck3_1): Bottleneck(\n",
       "    (conv1x1_1): Sequential(\n",
       "      (0): Conv2d(128, 32, kernel_size=(1, 1), stride=(1, 1), bias=False)\n",
       "      (1): BatchNorm2d(32, eps=1e-05, momentum=0.1, affine=True, track_running_stats=True)\n",
       "      (2): PReLU(num_parameters=1)\n",
       "    )\n",
       "    (conv2x2): Sequential(\n",
       "      (0): Conv2d(32, 32, kernel_size=(3, 3), stride=(1, 1), padding=(1, 1), bias=False)\n",
       "      (1): BatchNorm2d(32, eps=1e-05, momentum=0.1, affine=True, track_running_stats=True)\n",
       "      (2): PReLU(num_parameters=1)\n",
       "    )\n",
       "    (conv1x1_2): Sequential(\n",
       "      (0): Conv2d(32, 128, kernel_size=(1, 1), stride=(1, 1), bias=False)\n",
       "      (1): BatchNorm2d(128, eps=1e-05, momentum=0.1, affine=True, track_running_stats=True)\n",
       "      (2): Dropout2d(p=0.1, inplace=False)\n",
       "    )\n",
       "    (regularizer): Dropout2d(p=0.1, inplace=False)\n",
       "    (out_prelu): PReLU(num_parameters=1)\n",
       "  )\n",
       "  (bottleneck3_2): Bottleneck(\n",
       "    (conv1x1_1): Sequential(\n",
       "      (0): Conv2d(128, 32, kernel_size=(1, 1), stride=(1, 1), bias=False)\n",
       "      (1): BatchNorm2d(32, eps=1e-05, momentum=0.1, affine=True, track_running_stats=True)\n",
       "      (2): PReLU(num_parameters=1)\n",
       "    )\n",
       "    (conv2x2): Sequential(\n",
       "      (0): Conv2d(32, 32, kernel_size=(3, 3), stride=(1, 1), padding=(2, 2), dilation=(2, 2), bias=False)\n",
       "      (1): BatchNorm2d(32, eps=1e-05, momentum=0.1, affine=True, track_running_stats=True)\n",
       "      (2): PReLU(num_parameters=1)\n",
       "    )\n",
       "    (conv1x1_2): Sequential(\n",
       "      (0): Conv2d(32, 128, kernel_size=(1, 1), stride=(1, 1), bias=False)\n",
       "      (1): BatchNorm2d(128, eps=1e-05, momentum=0.1, affine=True, track_running_stats=True)\n",
       "      (2): Dropout2d(p=0.1, inplace=False)\n",
       "    )\n",
       "    (regularizer): Dropout2d(p=0.1, inplace=False)\n",
       "    (out_prelu): PReLU(num_parameters=1)\n",
       "  )\n",
       "  (bottleneck3_3): Bottleneck(\n",
       "    (conv1x1_1): Sequential(\n",
       "      (0): Conv2d(128, 32, kernel_size=(1, 1), stride=(1, 1), bias=False)\n",
       "      (1): BatchNorm2d(32, eps=1e-05, momentum=0.1, affine=True, track_running_stats=True)\n",
       "      (2): PReLU(num_parameters=1)\n",
       "    )\n",
       "    (conv2x2): Sequential(\n",
       "      (0): Conv2d(32, 32, kernel_size=(5, 1), stride=(1, 1), padding=(2, 0), bias=False)\n",
       "      (1): BatchNorm2d(32, eps=1e-05, momentum=0.1, affine=True, track_running_stats=True)\n",
       "      (2): PReLU(num_parameters=1)\n",
       "      (3): Conv2d(32, 32, kernel_size=(1, 5), stride=(1, 1), padding=(0, 2), bias=False)\n",
       "      (4): BatchNorm2d(32, eps=1e-05, momentum=0.1, affine=True, track_running_stats=True)\n",
       "      (5): PReLU(num_parameters=1)\n",
       "    )\n",
       "    (conv1x1_2): Sequential(\n",
       "      (0): Conv2d(32, 128, kernel_size=(1, 1), stride=(1, 1), bias=False)\n",
       "      (1): BatchNorm2d(128, eps=1e-05, momentum=0.1, affine=True, track_running_stats=True)\n",
       "      (2): Dropout2d(p=0.1, inplace=False)\n",
       "    )\n",
       "    (regularizer): Dropout2d(p=0.1, inplace=False)\n",
       "    (out_prelu): PReLU(num_parameters=1)\n",
       "  )\n",
       "  (bottleneck3_4): Bottleneck(\n",
       "    (conv1x1_1): Sequential(\n",
       "      (0): Conv2d(128, 32, kernel_size=(1, 1), stride=(1, 1), bias=False)\n",
       "      (1): BatchNorm2d(32, eps=1e-05, momentum=0.1, affine=True, track_running_stats=True)\n",
       "      (2): PReLU(num_parameters=1)\n",
       "    )\n",
       "    (conv2x2): Sequential(\n",
       "      (0): Conv2d(32, 32, kernel_size=(3, 3), stride=(1, 1), padding=(4, 4), dilation=(4, 4), bias=False)\n",
       "      (1): BatchNorm2d(32, eps=1e-05, momentum=0.1, affine=True, track_running_stats=True)\n",
       "      (2): PReLU(num_parameters=1)\n",
       "    )\n",
       "    (conv1x1_2): Sequential(\n",
       "      (0): Conv2d(32, 128, kernel_size=(1, 1), stride=(1, 1), bias=False)\n",
       "      (1): BatchNorm2d(128, eps=1e-05, momentum=0.1, affine=True, track_running_stats=True)\n",
       "      (2): Dropout2d(p=0.1, inplace=False)\n",
       "    )\n",
       "    (regularizer): Dropout2d(p=0.1, inplace=False)\n",
       "    (out_prelu): PReLU(num_parameters=1)\n",
       "  )\n",
       "  (bottleneck3_5): Bottleneck(\n",
       "    (conv1x1_1): Sequential(\n",
       "      (0): Conv2d(128, 32, kernel_size=(1, 1), stride=(1, 1), bias=False)\n",
       "      (1): BatchNorm2d(32, eps=1e-05, momentum=0.1, affine=True, track_running_stats=True)\n",
       "      (2): PReLU(num_parameters=1)\n",
       "    )\n",
       "    (conv2x2): Sequential(\n",
       "      (0): Conv2d(32, 32, kernel_size=(3, 3), stride=(1, 1), padding=(1, 1), bias=False)\n",
       "      (1): BatchNorm2d(32, eps=1e-05, momentum=0.1, affine=True, track_running_stats=True)\n",
       "      (2): PReLU(num_parameters=1)\n",
       "    )\n",
       "    (conv1x1_2): Sequential(\n",
       "      (0): Conv2d(32, 128, kernel_size=(1, 1), stride=(1, 1), bias=False)\n",
       "      (1): BatchNorm2d(128, eps=1e-05, momentum=0.1, affine=True, track_running_stats=True)\n",
       "      (2): Dropout2d(p=0.1, inplace=False)\n",
       "    )\n",
       "    (regularizer): Dropout2d(p=0.1, inplace=False)\n",
       "    (out_prelu): PReLU(num_parameters=1)\n",
       "  )\n",
       "  (bottleneck3_6): Bottleneck(\n",
       "    (conv1x1_1): Sequential(\n",
       "      (0): Conv2d(128, 32, kernel_size=(1, 1), stride=(1, 1), bias=False)\n",
       "      (1): BatchNorm2d(32, eps=1e-05, momentum=0.1, affine=True, track_running_stats=True)\n",
       "      (2): PReLU(num_parameters=1)\n",
       "    )\n",
       "    (conv2x2): Sequential(\n",
       "      (0): Conv2d(32, 32, kernel_size=(3, 3), stride=(1, 1), padding=(8, 8), dilation=(8, 8), bias=False)\n",
       "      (1): BatchNorm2d(32, eps=1e-05, momentum=0.1, affine=True, track_running_stats=True)\n",
       "      (2): PReLU(num_parameters=1)\n",
       "    )\n",
       "    (conv1x1_2): Sequential(\n",
       "      (0): Conv2d(32, 128, kernel_size=(1, 1), stride=(1, 1), bias=False)\n",
       "      (1): BatchNorm2d(128, eps=1e-05, momentum=0.1, affine=True, track_running_stats=True)\n",
       "      (2): Dropout2d(p=0.1, inplace=False)\n",
       "    )\n",
       "    (regularizer): Dropout2d(p=0.1, inplace=False)\n",
       "    (out_prelu): PReLU(num_parameters=1)\n",
       "  )\n",
       "  (bottleneck3_7): Bottleneck(\n",
       "    (conv1x1_1): Sequential(\n",
       "      (0): Conv2d(128, 32, kernel_size=(1, 1), stride=(1, 1), bias=False)\n",
       "      (1): BatchNorm2d(32, eps=1e-05, momentum=0.1, affine=True, track_running_stats=True)\n",
       "      (2): PReLU(num_parameters=1)\n",
       "    )\n",
       "    (conv2x2): Sequential(\n",
       "      (0): Conv2d(32, 32, kernel_size=(5, 1), stride=(1, 1), padding=(2, 0), bias=False)\n",
       "      (1): BatchNorm2d(32, eps=1e-05, momentum=0.1, affine=True, track_running_stats=True)\n",
       "      (2): PReLU(num_parameters=1)\n",
       "      (3): Conv2d(32, 32, kernel_size=(1, 5), stride=(1, 1), padding=(0, 2), bias=False)\n",
       "      (4): BatchNorm2d(32, eps=1e-05, momentum=0.1, affine=True, track_running_stats=True)\n",
       "      (5): PReLU(num_parameters=1)\n",
       "    )\n",
       "    (conv1x1_2): Sequential(\n",
       "      (0): Conv2d(32, 128, kernel_size=(1, 1), stride=(1, 1), bias=False)\n",
       "      (1): BatchNorm2d(128, eps=1e-05, momentum=0.1, affine=True, track_running_stats=True)\n",
       "      (2): Dropout2d(p=0.1, inplace=False)\n",
       "    )\n",
       "    (regularizer): Dropout2d(p=0.1, inplace=False)\n",
       "    (out_prelu): PReLU(num_parameters=1)\n",
       "  )\n",
       "  (bottleneck3_8): Bottleneck(\n",
       "    (conv1x1_1): Sequential(\n",
       "      (0): Conv2d(128, 32, kernel_size=(1, 1), stride=(1, 1), bias=False)\n",
       "      (1): BatchNorm2d(32, eps=1e-05, momentum=0.1, affine=True, track_running_stats=True)\n",
       "      (2): PReLU(num_parameters=1)\n",
       "    )\n",
       "    (conv2x2): Sequential(\n",
       "      (0): Conv2d(32, 32, kernel_size=(3, 3), stride=(1, 1), padding=(16, 16), dilation=(16, 16), bias=False)\n",
       "      (1): BatchNorm2d(32, eps=1e-05, momentum=0.1, affine=True, track_running_stats=True)\n",
       "      (2): PReLU(num_parameters=1)\n",
       "    )\n",
       "    (conv1x1_2): Sequential(\n",
       "      (0): Conv2d(32, 128, kernel_size=(1, 1), stride=(1, 1), bias=False)\n",
       "      (1): BatchNorm2d(128, eps=1e-05, momentum=0.1, affine=True, track_running_stats=True)\n",
       "      (2): Dropout2d(p=0.1, inplace=False)\n",
       "    )\n",
       "    (regularizer): Dropout2d(p=0.1, inplace=False)\n",
       "    (out_prelu): PReLU(num_parameters=1)\n",
       "  )\n",
       "  (bottleneck4_0): Bottleneck(\n",
       "    (conv1x1_1): Sequential(\n",
       "      (0): Conv2d(128, 32, kernel_size=(1, 1), stride=(1, 1), bias=False)\n",
       "      (1): BatchNorm2d(32, eps=1e-05, momentum=0.1, affine=True, track_running_stats=True)\n",
       "      (2): PReLU(num_parameters=1)\n",
       "    )\n",
       "    (conv2x2): Sequential(\n",
       "      (0): ConvTranspose2d(32, 32, kernel_size=(2, 2), stride=(2, 2), bias=False)\n",
       "      (1): BatchNorm2d(32, eps=1e-05, momentum=0.1, affine=True, track_running_stats=True)\n",
       "      (2): PReLU(num_parameters=1)\n",
       "    )\n",
       "    (conv1x1_2): Sequential(\n",
       "      (0): Conv2d(32, 64, kernel_size=(1, 1), stride=(1, 1), bias=False)\n",
       "      (1): BatchNorm2d(64, eps=1e-05, momentum=0.1, affine=True, track_running_stats=True)\n",
       "      (2): Dropout2d(p=0.1, inplace=False)\n",
       "    )\n",
       "    (regularizer): Dropout2d(p=0.1, inplace=False)\n",
       "    (resample): Sequential(\n",
       "      (0): ConvTranspose2d(128, 64, kernel_size=(2, 2), stride=(2, 2), bias=False)\n",
       "      (1): BatchNorm2d(64, eps=1e-05, momentum=0.1, affine=True, track_running_stats=True)\n",
       "    )\n",
       "    (out_prelu): PReLU(num_parameters=1)\n",
       "  )\n",
       "  (bottleneck4_1): Bottleneck(\n",
       "    (conv1x1_1): Sequential(\n",
       "      (0): Conv2d(64, 16, kernel_size=(1, 1), stride=(1, 1), bias=False)\n",
       "      (1): BatchNorm2d(16, eps=1e-05, momentum=0.1, affine=True, track_running_stats=True)\n",
       "      (2): PReLU(num_parameters=1)\n",
       "    )\n",
       "    (conv2x2): Sequential(\n",
       "      (0): Conv2d(16, 16, kernel_size=(3, 3), stride=(1, 1), padding=(1, 1), bias=False)\n",
       "      (1): BatchNorm2d(16, eps=1e-05, momentum=0.1, affine=True, track_running_stats=True)\n",
       "      (2): PReLU(num_parameters=1)\n",
       "    )\n",
       "    (conv1x1_2): Sequential(\n",
       "      (0): Conv2d(16, 64, kernel_size=(1, 1), stride=(1, 1), bias=False)\n",
       "      (1): BatchNorm2d(64, eps=1e-05, momentum=0.1, affine=True, track_running_stats=True)\n",
       "      (2): Dropout2d(p=0.1, inplace=False)\n",
       "    )\n",
       "    (regularizer): Dropout2d(p=0.1, inplace=False)\n",
       "    (out_prelu): PReLU(num_parameters=1)\n",
       "  )\n",
       "  (bottleneck4_2): Bottleneck(\n",
       "    (conv1x1_1): Sequential(\n",
       "      (0): Conv2d(64, 16, kernel_size=(1, 1), stride=(1, 1), bias=False)\n",
       "      (1): BatchNorm2d(16, eps=1e-05, momentum=0.1, affine=True, track_running_stats=True)\n",
       "      (2): PReLU(num_parameters=1)\n",
       "    )\n",
       "    (conv2x2): Sequential(\n",
       "      (0): Conv2d(16, 16, kernel_size=(3, 3), stride=(1, 1), padding=(1, 1), bias=False)\n",
       "      (1): BatchNorm2d(16, eps=1e-05, momentum=0.1, affine=True, track_running_stats=True)\n",
       "      (2): PReLU(num_parameters=1)\n",
       "    )\n",
       "    (conv1x1_2): Sequential(\n",
       "      (0): Conv2d(16, 64, kernel_size=(1, 1), stride=(1, 1), bias=False)\n",
       "      (1): BatchNorm2d(64, eps=1e-05, momentum=0.1, affine=True, track_running_stats=True)\n",
       "      (2): Dropout2d(p=0.1, inplace=False)\n",
       "    )\n",
       "    (regularizer): Dropout2d(p=0.1, inplace=False)\n",
       "    (out_prelu): PReLU(num_parameters=1)\n",
       "  )\n",
       "  (bottleneck5_0): Bottleneck(\n",
       "    (conv1x1_1): Sequential(\n",
       "      (0): Conv2d(64, 16, kernel_size=(1, 1), stride=(1, 1), bias=False)\n",
       "      (1): BatchNorm2d(16, eps=1e-05, momentum=0.1, affine=True, track_running_stats=True)\n",
       "      (2): PReLU(num_parameters=1)\n",
       "    )\n",
       "    (conv2x2): Sequential(\n",
       "      (0): ConvTranspose2d(16, 16, kernel_size=(2, 2), stride=(2, 2), bias=False)\n",
       "      (1): BatchNorm2d(16, eps=1e-05, momentum=0.1, affine=True, track_running_stats=True)\n",
       "      (2): PReLU(num_parameters=1)\n",
       "    )\n",
       "    (conv1x1_2): Sequential(\n",
       "      (0): Conv2d(16, 16, kernel_size=(1, 1), stride=(1, 1), bias=False)\n",
       "      (1): BatchNorm2d(16, eps=1e-05, momentum=0.1, affine=True, track_running_stats=True)\n",
       "      (2): Dropout2d(p=0.1, inplace=False)\n",
       "    )\n",
       "    (regularizer): Dropout2d(p=0.1, inplace=False)\n",
       "    (resample): Sequential(\n",
       "      (0): ConvTranspose2d(64, 16, kernel_size=(2, 2), stride=(2, 2), bias=False)\n",
       "      (1): BatchNorm2d(16, eps=1e-05, momentum=0.1, affine=True, track_running_stats=True)\n",
       "    )\n",
       "    (out_prelu): PReLU(num_parameters=1)\n",
       "  )\n",
       "  (bottleneck5_1): Bottleneck(\n",
       "    (conv1x1_1): Sequential(\n",
       "      (0): Conv2d(16, 4, kernel_size=(1, 1), stride=(1, 1), bias=False)\n",
       "      (1): BatchNorm2d(4, eps=1e-05, momentum=0.1, affine=True, track_running_stats=True)\n",
       "      (2): PReLU(num_parameters=1)\n",
       "    )\n",
       "    (conv2x2): Sequential(\n",
       "      (0): Conv2d(4, 4, kernel_size=(3, 3), stride=(1, 1), padding=(1, 1), bias=False)\n",
       "      (1): BatchNorm2d(4, eps=1e-05, momentum=0.1, affine=True, track_running_stats=True)\n",
       "      (2): PReLU(num_parameters=1)\n",
       "    )\n",
       "    (conv1x1_2): Sequential(\n",
       "      (0): Conv2d(4, 16, kernel_size=(1, 1), stride=(1, 1), bias=False)\n",
       "      (1): BatchNorm2d(16, eps=1e-05, momentum=0.1, affine=True, track_running_stats=True)\n",
       "      (2): Dropout2d(p=0.1, inplace=False)\n",
       "    )\n",
       "    (regularizer): Dropout2d(p=0.1, inplace=False)\n",
       "    (out_prelu): PReLU(num_parameters=1)\n",
       "  )\n",
       "  (fullconv): ConvTranspose2d(16, 1, kernel_size=(3, 3), stride=(2, 2), padding=(1, 1), output_padding=(1, 1), bias=False)\n",
       ")"
      ]
     },
     "execution_count": 28,
     "metadata": {},
     "output_type": "execute_result"
    }
   ],
   "source": [
    "from Enet import ENet\n",
    "import torch\n",
    "\n",
    "model = ENet(1)\n",
    "\n",
    "model.load_state_dict(\n",
    "        torch.load(\n",
    "            \"./student_enet2_KD.pth\",\n",
    "            map_location=torch.device('cpu'),\n",
    "            weights_only=True \n",
    "        )\n",
    "    )\n",
    "\n",
    "model.eval()"
   ]
  },
  {
   "cell_type": "code",
   "execution_count": 40,
   "id": "a2c79a43",
   "metadata": {},
   "outputs": [
    {
     "name": "stdout",
     "output_type": "stream",
     "text": [
      "<class 'PIL.Image.Image'>\n",
      "<class 'torch.Tensor'>\n",
      "torch.Size([3, 256, 256])\n",
      "torch.Size([1, 3, 256, 256])\n"
     ]
    }
   ],
   "source": [
    "from PIL import Image\n",
    "from torchvision import transforms\n",
    "\n",
    "img = Image.open(\"./30.png\").convert(\"RGB\")\n",
    "\n",
    "print(type(img))\n",
    "\n",
    "tr = transforms.Compose([\n",
    "    transforms.Resize((256,256)),\n",
    "    transforms.ToTensor()\n",
    "])\n",
    "\n",
    "img = tr(img)\n",
    "\n",
    "print(type(img))\n",
    "print(img.shape)\n",
    "img = img.unsqueeze(dim=0)\n",
    "print(img.shape)\n",
    "\n",
    "\n",
    "with torch.no_grad():\n",
    "    op = model(img)\n",
    "\n",
    "    op = torch.sigmoid(op)"
   ]
  },
  {
   "cell_type": "code",
   "execution_count": 41,
   "id": "b4af2a41",
   "metadata": {},
   "outputs": [
    {
     "data": {
      "text/plain": [
       "torch.Size([1, 1, 256, 256])"
      ]
     },
     "execution_count": 41,
     "metadata": {},
     "output_type": "execute_result"
    }
   ],
   "source": [
    "op.shape"
   ]
  },
  {
   "cell_type": "code",
   "execution_count": 57,
   "id": "e459096d",
   "metadata": {},
   "outputs": [
    {
     "name": "stderr",
     "output_type": "stream",
     "text": [
      "/tmp/ipykernel_61697/1944991300.py:1: FutureWarning: You are using `torch.load` with `weights_only=False` (the current default value), which uses the default pickle module implicitly. It is possible to construct malicious pickle data which will execute arbitrary code during unpickling (See https://github.com/pytorch/pytorch/blob/main/SECURITY.md#untrusted-models for more details). In a future release, the default value for `weights_only` will be flipped to `True`. This limits the functions that could be executed during unpickling. Arbitrary objects will no longer be allowed to be loaded via this mode unless they are explicitly allowlisted by the user via `torch.serialization.add_safe_globals`. We recommend you start setting `weights_only=True` for any use case where you don't have full control of the loaded file. Please open an issue on GitHub for any issues related to this experimental feature.\n",
      "  model1 = torch.load(\"./model1_scripted.pt\")\n",
      "/home/student/anaconda3/lib/python3.12/site-packages/torch/serialization.py:1328: UserWarning: 'torch.load' received a zip file that looks like a TorchScript archive dispatching to 'torch.jit.load' (call 'torch.jit.load' directly to silence this warning)\n",
      "  warnings.warn(\n",
      "/tmp/ipykernel_61697/1944991300.py:2: FutureWarning: You are using `torch.load` with `weights_only=False` (the current default value), which uses the default pickle module implicitly. It is possible to construct malicious pickle data which will execute arbitrary code during unpickling (See https://github.com/pytorch/pytorch/blob/main/SECURITY.md#untrusted-models for more details). In a future release, the default value for `weights_only` will be flipped to `True`. This limits the functions that could be executed during unpickling. Arbitrary objects will no longer be allowed to be loaded via this mode unless they are explicitly allowlisted by the user via `torch.serialization.add_safe_globals`. We recommend you start setting `weights_only=True` for any use case where you don't have full control of the loaded file. Please open an issue on GitHub for any issues related to this experimental feature.\n",
      "  model2 = torch.load(\"./model2_scripted.pt\")\n"
     ]
    }
   ],
   "source": [
    "model1 = torch.load(\"./model1_scripted.pt\")\n",
    "model2 = torch.load(\"./model2_scripted.pt\")\n",
    "# print(\"Model 1:\", model1)\n",
    "# print(\"Model 2:\", model2)"
   ]
  },
  {
   "cell_type": "code",
   "execution_count": 58,
   "id": "69cc599e",
   "metadata": {},
   "outputs": [
    {
     "name": "stdout",
     "output_type": "stream",
     "text": [
      "Input shape: torch.Size([1, 3, 256, 256])\n"
     ]
    }
   ],
   "source": [
    "import torch\n",
    "import matplotlib.pyplot as plt\n",
    "from PIL import Image\n",
    "import numpy as np\n",
    "import torchvision.transforms as transforms\n",
    "\n",
    "# Load image\n",
    "image_path = \"26.png\"\n",
    "image = Image.open(image_path).convert(\"RGB\")  # Ensure 3-channel RGB\n",
    "\n",
    "# Preprocessing pipeline (adjust per model requirements)\n",
    "preprocess = transforms.Compose([\n",
    "    transforms.Resize((256, 256)),        # Resize to expected input shape\n",
    "    transforms.ToTensor(),                # Convert to tensor [0, 1]\n",
    "    #transforms.Normalize(mean=[0.485, 0.456, 0.406], std=[0.229, 0.224, 0.225])  # ImageNet stats\n",
    "])\n",
    "\n",
    "input_tensor = preprocess(image).unsqueeze(0)  # Add batch dim: [1, 3, 224, 224]\n",
    "print(\"Input shape:\", input_tensor.shape)"
   ]
  },
  {
   "cell_type": "code",
   "execution_count": 82,
   "id": "69290bdb",
   "metadata": {},
   "outputs": [
    {
     "data": {
      "image/png": "[encoded data removed]",
      "text/plain": [
       "<Figure size 1200x600 with 1 Axes>"
      ]
     },
     "metadata": {},
     "output_type": "display_data"
    },
    {
     "name": "stdout",
     "output_type": "stream",
     "text": [
      "(256, 256, 3)\n"
     ]
    }
   ],
   "source": [
    "with torch.no_grad():\n",
    "    output1 = model1(input_tensor)\n",
    "\n",
    "# Plot Model 1's output (adjust based on output type)\n",
    "if output1.dim() == 4:  # Feature maps (e.g., from a CNN layer)\n",
    "    plt.figure(figsize=(12, 6))\n",
    "    plt.suptitle(\"Model 1 Output (Feature Maps)\")\n",
    "    for i in range(min(16, output1.shape[1])):  # Plot first 16 channels\n",
    "        plt.subplot(4, 4, i+1)\n",
    "        plt.imshow(output1[0, i].cpu().numpy(), cmap='gray')\n",
    "        plt.axis('off')\n",
    "else:  # Classification logits or other 1D/2D output\n",
    "    plt.figure()\n",
    "    if output1.shape[1] > 1:  # Multi-class\n",
    "        plt.bar(range(output1.shape[1]), output1.squeeze().cpu().numpy())\n",
    "        plt.title(\"Model 1 Output (Class Probabilities)\")\n",
    "    else:  # Regression or binary\n",
    "        plt.title(f\"Model 1 Output: {output1.item():.4f}\")\n",
    "plt.show()\n",
    "\n",
    "op = torch.sigmoid(output1).squeeze(0).repeat(3,1,1).permute(1,2,0).cpu().numpy()\n",
    "print(op.shape)\n",
    "plt.imsave(\"op.png\",op)"
   ]
  },
  {
   "cell_type": "code",
   "execution_count": 78,
   "id": "cfdcc8bb",
   "metadata": {},
   "outputs": [
    {
     "data": {
      "text/plain": [
       "torch.Size([1, 1, 256, 256])"
      ]
     },
     "execution_count": 78,
     "metadata": {},
     "output_type": "execute_result"
    }
   ],
   "source": [
    "output1.shape"
   ]
  },
  {
   "cell_type": "code",
   "execution_count": 79,
   "id": "25d3f588",
   "metadata": {},
   "outputs": [],
   "source": [
    "# Ensure compatibility (reshape/normalize if needed)\n",
    "output1 = output1.repeat(1,3,1,1)"
   ]
  },
  {
   "cell_type": "code",
   "execution_count": 83,
   "id": "84193e84",
   "metadata": {},
   "outputs": [
    {
     "data": {
      "text/plain": [
       "torch.Size([1, 3, 256, 256])"
      ]
     },
     "execution_count": 83,
     "metadata": {},
     "output_type": "execute_result"
    }
   ],
   "source": [
    "inp = Image.open(\"op.png\").convert(\"RGB\")\n",
    "\n",
    "\n",
    "tr = transforms.Compose([\n",
    "    transforms.ToTensor()\n",
    "])\n",
    "\n",
    "inp = tr(inp)\n",
    "inp = inp.unsqueeze(dim=0)\n",
    "inp.shape"
   ]
  },
  {
   "cell_type": "code",
   "execution_count": 90,
   "id": "4435257f",
   "metadata": {},
   "outputs": [],
   "source": [
    "from torchvision.transforms import functional as TF\n",
    "\n",
    "def preprocess_image(image_path):\n",
    "    \"\"\"Preprocess the input image for model1.\"\"\"\n",
    "    inp = Image.open(image_path).convert(\"RGB\")\n",
    "    tr = transforms.Compose([\n",
    "        transforms.Resize((256,256)),\n",
    "        transforms.ToTensor()\n",
    "    ])\n",
    "    inp = tr(inp).unsqueeze(0)\n",
    "    return inp\n",
    "\n",
    "def run_inference(image_tensor):\n",
    "    \"\"\"Run inference through both models with reprocessing for model2.\"\"\"\n",
    "    with torch.no_grad():\n",
    "        # Stage 1: Model 1 Inference\n",
    "        output1 = model1(image_tensor)\n",
    "        output1 = torch.sigmoid(output1)  # Single-channel mask in [0, 1]\n",
    "\n",
    "        # Convert to PIL image to mimic save-load behavior\n",
    "        output1_img = TF.to_pil_image(output1.squeeze())  # Converts to single-channel PIL image\n",
    "        \n",
    "        # Reprocess for model2: Convert to 3-channel RGB\n",
    "        output1_img_rgb = output1_img.convert(\"RGB\")\n",
    "        output1_tensor = transforms.ToTensor()(output1_img_rgb).unsqueeze(0)\n",
    "\n",
    "        # Stage 2: Model 2 Inference\n",
    "        output2 = model2(output1_tensor)\n",
    "        output2 = torch.sigmoid(output2)\n",
    "\n",
    "    return output1, output2\n",
    "\n",
    "\n",
    "img_path = \"./26.png\"\n",
    "img = preprocess_image(img_path)\n",
    "output1,output2 = run_inference(img)"
   ]
  },
  {
   "cell_type": "code",
   "execution_count": 92,
   "id": "9accac3d",
   "metadata": {},
   "outputs": [
    {
     "data": {
      "text/plain": [
       "(torch.Size([1, 1, 256, 256]), torch.Size([1, 1, 256, 256]))"
      ]
     },
     "execution_count": 92,
     "metadata": {},
     "output_type": "execute_result"
    }
   ],
   "source": [
    "output1.shape,output2.shape"
   ]
  },
  {
   "cell_type": "code",
   "execution_count": 93,
   "id": "7a1848cc",
   "metadata": {},
   "outputs": [
    {
     "data": {
      "text/plain": [
       "<matplotlib.image.AxesImage at 0x72f1744493a0>"
      ]
     },
     "execution_count": 93,
     "metadata": {},
     "output_type": "execute_result"
    },
    {
     "data": {
      "image/png": "[encoded data removed]",
      "text/plain": [
       "<Figure size 640x480 with 1 Axes>"
      ]
     },
     "metadata": {},
     "output_type": "display_data"
    }
   ],
   "source": [
    "op1 = output1.squeeze(0).permute(1, 2, 0).cpu().numpy()\n",
    "\n",
    "plt.imshow(op1)"
   ]
  },
  {
   "cell_type": "code",
   "execution_count": 94,
   "id": "97bce849",
   "metadata": {},
   "outputs": [
    {
     "data": {
      "text/plain": [
       "<matplotlib.image.AxesImage at 0x72f16b432f30>"
      ]
     },
     "execution_count": 94,
     "metadata": {},
     "output_type": "execute_result"
    },
    {
     "data": {
      "image/png": "[encoded data removed]",
      "text/plain": [
       "<Figure size 640x480 with 1 Axes>"
      ]
     },
     "metadata": {},
     "output_type": "display_data"
    }
   ],
   "source": [
    "op2 = output2.squeeze(0).permute(1, 2, 0).cpu().numpy()\n",
    "\n",
    "plt.imshow(op2)"
   ]
  },
  {
   "cell_type": "code",
   "execution_count": null,
   "id": "89bd8b8b",
   "metadata": {},
   "outputs": [],
   "source": [
    "\n",
    "\n",
    "\n",
    "\n",
    "\n",
    "with torch.no_grad():\n",
    "    output2 = model2(inp)\n",
    "\n",
    "output2 = torch.sigmoid(output2)"
   ]
  },
  {
   "cell_type": "code",
   "execution_count": 85,
   "id": "20959937",
   "metadata": {},
   "outputs": [
    {
     "data": {
      "image/png": "[encoded data removed]",
      "text/plain": [
       "<Figure size 1200x600 with 1 Axes>"
      ]
     },
     "metadata": {},
     "output_type": "display_data"
    }
   ],
   "source": [
    "# Plot Model 2's output (customize based on task)\n",
    "if output2.dim() == 4:  # Feature maps\n",
    "    plt.figure(figsize=(12, 6))\n",
    "    plt.suptitle(\"Model 2 Output (Feature Maps)\")\n",
    "    for i in range(min(16, output2.shape[1])):\n",
    "        plt.subplot(4, 4, i+1)\n",
    "        plt.imshow(output2[0, i].cpu().numpy(), cmap='gray')\n",
    "        plt.axis('off')\n",
    "elif output2.shape[1] == 3:  # RGB image (e.g., generative model)\n",
    "    output_image = output2.squeeze().permute(1, 2, 0).cpu().numpy()\n",
    "    output_image = np.clip((output_image * [0.229, 0.224, 0.225] + [0.485, 0.456, 0.406]), 0, 1)  # Undo normalization\n",
    "    plt.imshow(output_image)\n",
    "    plt.title(\"Model 2 Output (Image)\")\n",
    "else:  # Logits or scalar\n",
    "    plt.figure()\n",
    "    plt.title(f\"Model 2 Output: {output2.cpu().numpy()}\")\n",
    "plt.show()"
   ]
  },
  {
   "cell_type": "code",
   "execution_count": null,
   "id": "e48b0dc3",
   "metadata": {},
   "outputs": [],
   "source": []
  }
 ],
 "metadata": {
  "kernelspec": {
   "display_name": "base",
   "language": "python",
   "name": "python3"
  },
  "language_info": {
   "codemirror_mode": {
    "name": "ipython",
    "version": 3
   },
   "file_extension": ".py",
   "mimetype": "text/x-python",
   "name": "python",
   "nbconvert_exporter": "python",
   "pygments_lexer": "ipython3",
   "version": "3.12.4"
  }
 },
 "nbformat": 4,
 "nbformat_minor": 5
}
